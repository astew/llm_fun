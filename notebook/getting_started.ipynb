{
 "cells": [
  {
   "cell_type": "markdown",
   "metadata": {},
   "source": [
    "From the langchain getting started guide..."
   ]
  },
  {
   "cell_type": "code",
   "execution_count": null,
   "metadata": {},
   "outputs": [],
   "source": [
    "from config import settings\n",
    "from langchain.llms import OpenAI"
   ]
  },
  {
   "cell_type": "code",
   "execution_count": null,
   "metadata": {},
   "outputs": [],
   "source": [
    "\n",
    "llm = OpenAI(openai_api_key=settings.OPENAI_API_KEY,\n",
    "             model=\"text-davinci-003\", \n",
    "             temperature=0.9)\n",
    "\n",
    "prompt = \"The following is a python script which prints the username of the current user:\\n\"\n",
    "response = llm.predict(prompt)\n",
    "\n",
    "print(f\"{prompt}{response}\")"
   ]
  },
  {
   "cell_type": "code",
   "execution_count": null,
   "metadata": {},
   "outputs": [],
   "source": [
    "from langchain.chat_models import ChatOpenAI\n",
    "from langchain.schema import (\n",
    "    AIMessage,\n",
    "    HumanMessage,\n",
    "    SystemMessage\n",
    ")\n",
    "\n",
    "chat = ChatOpenAI(openai_api_key=settings.OPENAI_API_KEY,\n",
    "                  model=\"gpt-3.5-turbo-0613\",\n",
    "                  temperature=0)\n",
    "chat.predict_messages([\n",
    "    HumanMessage(content=\"Translate this sentence from English to French. I love programming.\")\n",
    "])\n"
   ]
  }
 ],
 "metadata": {
  "kernelspec": {
   "display_name": "Python 3",
   "language": "python",
   "name": "python3"
  },
  "language_info": {
   "codemirror_mode": {
    "name": "ipython",
    "version": 3
   },
   "file_extension": ".py",
   "mimetype": "text/x-python",
   "name": "python",
   "nbconvert_exporter": "python",
   "pygments_lexer": "ipython3",
   "version": "3.10.11"
  },
  "orig_nbformat": 4
 },
 "nbformat": 4,
 "nbformat_minor": 2
}
