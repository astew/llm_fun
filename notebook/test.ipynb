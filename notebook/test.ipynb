{
 "cells": [
  {
   "cell_type": "code",
   "execution_count": null,
   "metadata": {},
   "outputs": [],
   "source": [
    "from config import settings\n",
    "from langchain.llms import OpenAI\n",
    "\n",
    "llm = OpenAI(openai_api_key=settings.OPENAI_API_KEY, model=\"text-davinci-003\", temperature=0.9)\n",
    "\n",
    "prompt = \"Write a python script with typer that asks for a username and returns 'hello username'\"\n",
    "response = llm.predict(prompt)\n",
    "print(f\"{prompt}{response}\")\n",
    "\n",
    "prompt2 = f\"Given the following script \\n {response} \\n Add a method that displays a timer\"\n",
    "response2 = llm.predict(prompt2)\n",
    "print(f\"{prompt2}{response2}\")\n"
   ]
  },
  {
   "cell_type": "code",
   "execution_count": null,
   "metadata": {},
   "outputs": [],
   "source": [
    "from langchain.chat_models import ChatOpenAI\n",
    "from langchain.schema import (\n",
    "    AIMessage,\n",
    "    HumanMessage,\n",
    "    SystemMessage\n",
    ")\n",
    "\n",
    "chat = ChatOpenAI(openai_api_key=settings.OPENAI_API_KEY,\n",
    "                  model=\"gpt-3.5-turbo-0613\",\n",
    "                  temperature=0)\n",
    "\n",
    "chat.predict_messages([\n",
    "    HumanMessage(content=\"You are an excellent programmer and you want to write a \")\n",
    "])\n",
    "\n"
   ]
  }
 ],
 "metadata": {
  "kernelspec": {
   "display_name": "Python 3",
   "language": "python",
   "name": "python3"
  },
  "language_info": {
   "codemirror_mode": {
    "name": "ipython",
    "version": 3
   },
   "file_extension": ".py",
   "mimetype": "text/x-python",
   "name": "python",
   "nbconvert_exporter": "python",
   "pygments_lexer": "ipython3",
   "version": "3.8.10"
  },
  "orig_nbformat": 4
 },
 "nbformat": 4,
 "nbformat_minor": 2
}
